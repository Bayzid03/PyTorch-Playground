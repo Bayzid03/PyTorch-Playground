{
  "cells": [
    {
      "cell_type": "markdown",
      "metadata": {
        "id": "view-in-github",
        "colab_type": "text"
      },
      "source": [
        "<a href=\"https://colab.research.google.com/github/Bayzid03/PyTorch-Playground/blob/main/Basic.ipynb\" target=\"_parent\"><img src=\"https://colab.research.google.com/assets/colab-badge.svg\" alt=\"Open In Colab\"/></a>"
      ]
    },
    {
      "cell_type": "code",
      "execution_count": null,
      "metadata": {
        "id": "NiyN25Jwfewa",
        "outputId": "dfe98492-49b2-4213-fdf7-b9829fe4c280"
      },
      "outputs": [
        {
          "name": "stdout",
          "output_type": "stream",
          "text": [
            "Requirement already satisfied: torch in c:\\users\\user\\appdata\\local\\programs\\python\\python312\\lib\\site-packages (2.5.1)\n",
            "Requirement already satisfied: torchvision in c:\\users\\user\\appdata\\local\\programs\\python\\python312\\lib\\site-packages (0.20.1)\n",
            "Requirement already satisfied: torchaudio in c:\\users\\user\\appdata\\local\\programs\\python\\python312\\lib\\site-packages (2.5.1)\n",
            "Requirement already satisfied: filelock in c:\\users\\user\\appdata\\local\\programs\\python\\python312\\lib\\site-packages (from torch) (3.16.1)\n",
            "Requirement already satisfied: typing-extensions>=4.8.0 in c:\\users\\user\\appdata\\local\\programs\\python\\python312\\lib\\site-packages (from torch) (4.12.2)\n",
            "Requirement already satisfied: networkx in c:\\users\\user\\appdata\\local\\programs\\python\\python312\\lib\\site-packages (from torch) (3.3)\n",
            "Requirement already satisfied: jinja2 in c:\\users\\user\\appdata\\local\\programs\\python\\python312\\lib\\site-packages (from torch) (3.1.3)\n",
            "Requirement already satisfied: fsspec in c:\\users\\user\\appdata\\local\\programs\\python\\python312\\lib\\site-packages (from torch) (2024.9.0)\n",
            "Requirement already satisfied: setuptools in c:\\users\\user\\appdata\\local\\programs\\python\\python312\\lib\\site-packages (from torch) (75.1.0)\n",
            "Requirement already satisfied: sympy==1.13.1 in c:\\users\\user\\appdata\\local\\programs\\python\\python312\\lib\\site-packages (from torch) (1.13.1)\n",
            "Requirement already satisfied: mpmath<1.4,>=1.1.0 in c:\\users\\user\\appdata\\local\\programs\\python\\python312\\lib\\site-packages (from sympy==1.13.1->torch) (1.3.0)\n",
            "Requirement already satisfied: numpy in c:\\users\\user\\appdata\\local\\programs\\python\\python312\\lib\\site-packages (from torchvision) (1.26.3)\n",
            "Requirement already satisfied: pillow!=8.3.*,>=5.3.0 in c:\\users\\user\\appdata\\local\\programs\\python\\python312\\lib\\site-packages (from torchvision) (10.2.0)\n",
            "Requirement already satisfied: MarkupSafe>=2.0 in c:\\users\\user\\appdata\\local\\programs\\python\\python312\\lib\\site-packages (from jinja2->torch) (2.1.3)\n",
            "Note: you may need to restart the kernel to use updated packages.\n"
          ]
        }
      ],
      "source": [
        "%pip install torch torchvision torchaudio"
      ]
    },
    {
      "cell_type": "code",
      "execution_count": null,
      "metadata": {
        "id": "nC-Wkdgefewd",
        "outputId": "27bf3ce3-f97d-47dc-c6a9-f231d421ee92"
      },
      "outputs": [
        {
          "name": "stdout",
          "output_type": "stream",
          "text": [
            "PyTorch Version: 2.5.1+cpu\n",
            "CUDA available: False\n"
          ]
        }
      ],
      "source": [
        "import torch\n",
        "print(\"PyTorch Version:\",torch.__version__)\n",
        "print(\"CUDA available:\",torch.cuda.is_available())"
      ]
    },
    {
      "cell_type": "code",
      "execution_count": null,
      "metadata": {
        "id": "6HiVfazhfewd",
        "outputId": "13360b89-aeb9-47e1-bef3-035081c5ba06"
      },
      "outputs": [
        {
          "name": "stdout",
          "output_type": "stream",
          "text": [
            "Scalar: tensor(5)\n",
            "Shape: torch.Size([])\n",
            "\n",
            "Vector: tensor([1, 2, 3])\n",
            "Shape: torch.Size([3])\n",
            "\n",
            "Matrix:\n",
            " tensor([[1, 2],\n",
            "        [3, 4]])\n",
            "Shape: torch.Size([2, 2])\n",
            "\n",
            "3D Tensor:\n",
            " tensor([[[1, 2],\n",
            "         [3, 4]],\n",
            "\n",
            "        [[5, 6],\n",
            "         [7, 8]]])\n",
            "Shape: torch.Size([2, 2, 2])\n",
            "Random Tensor: tensor([[0.2593, 0.1206, 0.8649],\n",
            "        [0.6671, 0.5468, 0.8844]])\n",
            "Shape: torch.Size([2, 3])\n",
            "DataType: torch.float32\n",
            "Device: cpu\n"
          ]
        }
      ],
      "source": [
        "import torch\n",
        "\n",
        "# Scalar (0D tensor)\n",
        "scalar = torch.tensor(5)\n",
        "print(\"Scalar:\", scalar)\n",
        "print(\"Shape:\", scalar.shape)\n",
        "\n",
        "# Vector (1D tensor)\n",
        "vector = torch.tensor([1, 2, 3])\n",
        "print(\"\\nVector:\", vector)\n",
        "print(\"Shape:\", vector.shape)\n",
        "\n",
        "# Matrix (2D tensor)\n",
        "matrix = torch.tensor([[1, 2], [3, 4]])\n",
        "print(\"\\nMatrix:\\n\", matrix)\n",
        "print(\"Shape:\", matrix.shape)\n",
        "\n",
        "# 3D Tensor\n",
        "tensor3d = torch.tensor([[[1, 2], [3, 4]], [[5, 6], [7, 8]]])\n",
        "print(\"\\n3D Tensor:\\n\", tensor3d)\n",
        "print(\"Shape:\", tensor3d.shape)\n",
        "\n",
        "random_tensor = torch.rand(2, 3)\n",
        "print(\"Random Tensor:\", random_tensor)\n",
        "print(\"Shape:\", random_tensor.shape)\n",
        "print(\"DataType:\", random_tensor.dtype)\n",
        "print(\"Device:\", random_tensor.device)\n"
      ]
    },
    {
      "cell_type": "code",
      "execution_count": null,
      "metadata": {
        "id": "EtjdhJ2ofewe",
        "outputId": "f747b05d-1eec-4f2c-fae9-1729e5d34f27"
      },
      "outputs": [
        {
          "name": "stdout",
          "output_type": "stream",
          "text": [
            "Addition: tensor([4, 6])\n",
            "Multiplication: tensor([3, 8])\n"
          ]
        }
      ],
      "source": [
        "# Addition and Multiplication\n",
        "a= torch.tensor([1,2])\n",
        "b= torch.tensor([3,4])\n",
        "\n",
        "print(\"Addition:\", a+b)\n",
        "print(\"Multiplication:\", a*b)"
      ]
    },
    {
      "cell_type": "markdown",
      "source": [
        "Matrix Multiplication"
      ],
      "metadata": {
        "id": "0KtJKscjfzzM"
      }
    },
    {
      "cell_type": "code",
      "execution_count": null,
      "metadata": {
        "id": "6pkFOtzXfewe",
        "outputId": "4ae850e1-5b5c-4ff2-e9ba-fb460f240d6b"
      },
      "outputs": [
        {
          "name": "stdout",
          "output_type": "stream",
          "text": [
            "Matrix Multiplication:\n",
            " tensor([[19, 22],\n",
            "        [43, 50]])\n"
          ]
        }
      ],
      "source": [
        "matrix1 = torch.tensor([[1, 2], [3, 4]])\n",
        "matrix2 = torch.tensor([[5, 6], [7, 8]])\n",
        "\n",
        "result = torch.matmul(matrix1, matrix2)\n",
        "print(\"Matrix Multiplication:\\n\", result)"
      ]
    },
    {
      "cell_type": "markdown",
      "source": [
        "Reshaping Tensors"
      ],
      "metadata": {
        "id": "UIk1SVEBgIrc"
      }
    },
    {
      "cell_type": "code",
      "execution_count": null,
      "metadata": {
        "id": "IzMcMWDMfewf",
        "outputId": "240ac134-788e-413b-e77b-39f54ba4d993"
      },
      "outputs": [
        {
          "name": "stdout",
          "output_type": "stream",
          "text": [
            "Reshaped Tensor:\n",
            " tensor([[1, 2, 3],\n",
            "        [4, 5, 6]])\n"
          ]
        }
      ],
      "source": [
        "tensor = torch.tensor([1, 2, 3, 4, 5, 6])\n",
        "reshaped = tensor.view(2, 3)  # Reshape to 2 rows and 3 columns\n",
        "print(\"Reshaped Tensor:\\n\", reshaped)"
      ]
    },
    {
      "cell_type": "markdown",
      "metadata": {
        "id": "fbA2u6refewf"
      },
      "source": [
        "Tasks: 1. Creating a 2D tensor of size (3,4) with random values.\n",
        "       2. Perform element wise addition with another tensor of the same size.\n",
        "       3. Reshape the resulting tensor to a 2*6 shape."
      ]
    },
    {
      "cell_type": "code",
      "execution_count": null,
      "metadata": {
        "id": "on4Vuo55fewg",
        "outputId": "1d5eea17-347f-46b2-d386-862752e319fa"
      },
      "outputs": [
        {
          "name": "stdout",
          "output_type": "stream",
          "text": [
            "Tensor 1 (3*4): \n",
            " tensor([[0.4539, 0.6674, 0.3819, 0.2527],\n",
            "        [0.4538, 0.7138, 0.2178, 0.4452],\n",
            "        [0.4388, 0.8855, 0.1904, 0.4635]])\n",
            "Tensor 2 (3*4): \n",
            " tensor([[0.5501, 0.5398, 0.2583, 0.2230],\n",
            "        [0.2039, 0.4301, 0.4047, 0.8707],\n",
            "        [0.5994, 0.4152, 0.4990, 0.8445]])\n",
            "Element-Wise addition (3*4):\n",
            " tensor([[1.0040, 1.2072, 0.6402, 0.4756],\n",
            "        [0.6577, 1.1439, 0.6224, 1.3159],\n",
            "        [1.0381, 1.3007, 0.6894, 1.3080]])\n",
            "Reshaped Result (2*6): \n",
            " tensor([[1.0040, 1.2072, 0.6402, 0.4756, 0.6577, 1.1439],\n",
            "        [0.6224, 1.3159, 1.0381, 1.3007, 0.6894, 1.3080]])\n"
          ]
        }
      ],
      "source": [
        "tensor1 = torch.rand(3, 4)\n",
        "print(\"Tensor 1 (3*4): \\n\",tensor1)\n",
        "\n",
        "tensor2 = torch.rand(3, 4)\n",
        "print(\"Tensor 2 (3*4): \\n\", tensor2)\n",
        "\n",
        "result = tensor1 + tensor2\n",
        "print(\"Element-Wise addition (3*4):\\n\", result)\n",
        "\n",
        "reshaped_result = result.view(2, 6)\n",
        "print(\"Reshaped Result (2*6): \\n\", reshaped_result)"
      ]
    },
    {
      "cell_type": "markdown",
      "metadata": {
        "id": "5ZIo4-4Wfewh"
      },
      "source": [
        "Automatic Differentiation with AutoGrad\n",
        "* When training a neural network, we adjust the model's weights (w) to minimize errors. This process is called BackPropogation. It uses gradients to do that. Gradient show how much each weight should change to reduce the error (loss)\n",
        "* torch.autograd helps to compute gradients automatically."
      ]
    },
    {
      "cell_type": "code",
      "execution_count": null,
      "metadata": {
        "id": "CYpOvMGUfewh",
        "outputId": "aed502c0-b1a4-43fe-cf36-6c762e2e5dcd"
      },
      "outputs": [
        {
          "name": "stdout",
          "output_type": "stream",
          "text": [
            "Gradient (dz/dx): tensor(12.)\n"
          ]
        }
      ],
      "source": [
        "import torch\n",
        "\n",
        "# Create a tensor with requires_grad=True\n",
        "x = torch.tensor(3.0, requires_grad=True)\n",
        "\n",
        "# Perform some operations\n",
        "y = x ** 2  # y = x^2\n",
        "z = 2 * y + 3  # z = 2y + 3\n",
        "\n",
        "# Compute gradients\n",
        "z.backward()  # Backpropagate\n",
        "\n",
        "# Gradient of z with respect to x (dz/dx)\n",
        "print(\"Gradient (dz/dx):\", x.grad)\n"
      ]
    },
    {
      "cell_type": "code",
      "execution_count": null,
      "metadata": {
        "id": "_JgljVWXfewh",
        "outputId": "7dbaf909-c787-4369-9609-29f5dd31fc14"
      },
      "outputs": [
        {
          "name": "stdout",
          "output_type": "stream",
          "text": [
            "Gradient computation disabled: False\n"
          ]
        }
      ],
      "source": [
        "with torch.no_grad():\n",
        "    x = torch.tensor(3.0, requires_grad=True)\n",
        "    y = x ** 2\n",
        "    print(\"Gradient computation disabled:\", y.requires_grad)\n"
      ]
    },
    {
      "cell_type": "code",
      "execution_count": null,
      "metadata": {
        "id": "PIUT4yBzfewi",
        "outputId": "74c961f4-0f5e-4526-a684-45f9215490d0"
      },
      "outputs": [
        {
          "name": "stdout",
          "output_type": "stream",
          "text": [
            "Before zeroing: tensor(6.)\n",
            "After zeroing: tensor(0.)\n"
          ]
        }
      ],
      "source": [
        "x = torch.tensor(3.0, requires_grad=True)\n",
        "y = x ** 2\n",
        "y.backward()\n",
        "\n",
        "# Check the gradient\n",
        "print(\"Before zeroing:\", x.grad)\n",
        "\n",
        "# Zero the gradient\n",
        "x.grad.zero_()\n",
        "print(\"After zeroing:\", x.grad)\n"
      ]
    },
    {
      "cell_type": "markdown",
      "metadata": {
        "id": "SixsulKAfewi"
      },
      "source": [
        "Computing Gradients for multiple variables"
      ]
    },
    {
      "cell_type": "code",
      "execution_count": null,
      "metadata": {
        "id": "nVY-07Oifewi",
        "outputId": "4ce00a12-a3a6-4ae3-ec78-889f078f15c2"
      },
      "outputs": [
        {
          "name": "stdout",
          "output_type": "stream",
          "text": [
            "Gradient of a:\n",
            " tensor([[-1.4726,  2.2852,  1.1395],\n",
            "        [-1.8295, -0.1403, -0.4088]])\n",
            "Gradient of b:\n",
            " tensor([[-0.9477, -0.5214,  1.2121],\n",
            "        [-0.0907,  0.5103,  0.1629]])\n"
          ]
        }
      ],
      "source": [
        "a = torch.randn(2, 3, requires_grad=True)\n",
        "b = torch.randn(2, 3, requires_grad=True)\n",
        "\n",
        "# Element-wise operations\n",
        "c = a * b\n",
        "d = c.sum()  # Scalar output\n",
        "\n",
        "# Backpropagation\n",
        "d.backward()\n",
        "\n",
        "# Gradients\n",
        "print(\"Gradient of a:\\n\", a.grad)\n",
        "print(\"Gradient of b:\\n\", b.grad)\n"
      ]
    }
  ],
  "metadata": {
    "kernelspec": {
      "display_name": "base",
      "language": "python",
      "name": "python3"
    },
    "language_info": {
      "codemirror_mode": {
        "name": "ipython",
        "version": 3
      },
      "file_extension": ".py",
      "mimetype": "text/x-python",
      "name": "python",
      "nbconvert_exporter": "python",
      "pygments_lexer": "ipython3",
      "version": "3.12.4"
    },
    "colab": {
      "provenance": [],
      "include_colab_link": true
    }
  },
  "nbformat": 4,
  "nbformat_minor": 0
}