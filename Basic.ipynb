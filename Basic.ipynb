{
  "cells": [
    {
      "cell_type": "markdown",
      "metadata": {
        "id": "view-in-github",
        "colab_type": "text"
      },
      "source": [
        "<a href=\"https://colab.research.google.com/github/Bayzid03/PyTorch-Playground/blob/main/Basic.ipynb\" target=\"_parent\"><img src=\"https://colab.research.google.com/assets/colab-badge.svg\" alt=\"Open In Colab\"/></a>"
      ]
    },
    {
      "cell_type": "code",
      "execution_count": null,
      "metadata": {
        "id": "NiyN25Jwfewa"
      },
      "outputs": [],
      "source": [
        "# Import necessary library\n",
        "%pip install torch torchvision torchaudio"
      ]
    },
    {
      "cell_type": "code",
      "execution_count": null,
      "metadata": {
        "id": "nC-Wkdgefewd",
        "outputId": "27bf3ce3-f97d-47dc-c6a9-f231d421ee92"
      },
      "outputs": [
        {
          "name": "stdout",
          "output_type": "stream",
          "text": [
            "PyTorch Version: 2.5.1+cpu\n",
            "CUDA available: False\n"
          ]
        }
      ],
      "source": [
        "import torch\n",
        "print(\"PyTorch Version:\",torch.__version__)\n",
        "print(\"CUDA available:\",torch.cuda.is_available())"
      ]
    },
    {
      "cell_type": "code",
      "execution_count": null,
      "metadata": {
        "id": "6HiVfazhfewd",
        "outputId": "13360b89-aeb9-47e1-bef3-035081c5ba06"
      },
      "outputs": [
        {
          "name": "stdout",
          "output_type": "stream",
          "text": [
            "Scalar: tensor(5)\n",
            "Shape: torch.Size([])\n",
            "\n",
            "Vector: tensor([1, 2, 3])\n",
            "Shape: torch.Size([3])\n",
            "\n",
            "Matrix:\n",
            " tensor([[1, 2],\n",
            "        [3, 4]])\n",
            "Shape: torch.Size([2, 2])\n",
            "\n",
            "3D Tensor:\n",
            " tensor([[[1, 2],\n",
            "         [3, 4]],\n",
            "\n",
            "        [[5, 6],\n",
            "         [7, 8]]])\n",
            "Shape: torch.Size([2, 2, 2])\n",
            "Random Tensor: tensor([[0.2593, 0.1206, 0.8649],\n",
            "        [0.6671, 0.5468, 0.8844]])\n",
            "Shape: torch.Size([2, 3])\n",
            "DataType: torch.float32\n",
            "Device: cpu\n"
          ]
        }
      ],
      "source": [
        "import torch\n",
        "\n",
        "# Scalar (0D tensor)\n",
        "scalar = torch.tensor(5)\n",
        "print(\"Scalar:\", scalar)\n",
        "print(\"Shape:\", scalar.shape)\n",
        "\n",
        "# Vector (1D tensor)\n",
        "vector = torch.tensor([1, 2, 3])\n",
        "print(\"\\nVector:\", vector)\n",
        "print(\"Shape:\", vector.shape)\n",
        "\n",
        "# Matrix (2D tensor)\n",
        "matrix = torch.tensor([[1, 2], [3, 4]])\n",
        "print(\"\\nMatrix:\\n\", matrix)\n",
        "print(\"Shape:\", matrix.shape)\n",
        "\n",
        "# 3D Tensor\n",
        "tensor3d = torch.tensor([[[1, 2], [3, 4]], [[5, 6], [7, 8]]])\n",
        "print(\"\\n3D Tensor:\\n\", tensor3d)\n",
        "print(\"Shape:\", tensor3d.shape)\n",
        "\n",
        "random_tensor = torch.rand(2, 3)\n",
        "print(\"Random Tensor:\", random_tensor)\n",
        "print(\"Shape:\", random_tensor.shape)\n",
        "print(\"DataType:\", random_tensor.dtype)\n",
        "print(\"Device:\", random_tensor.device)\n"
      ]
    },
    {
      "cell_type": "code",
      "execution_count": null,
      "metadata": {
        "id": "EtjdhJ2ofewe",
        "outputId": "f747b05d-1eec-4f2c-fae9-1729e5d34f27"
      },
      "outputs": [
        {
          "name": "stdout",
          "output_type": "stream",
          "text": [
            "Addition: tensor([4, 6])\n",
            "Multiplication: tensor([3, 8])\n"
          ]
        }
      ],
      "source": [
        "# Addition and Multiplication\n",
        "a= torch.tensor([1,2])\n",
        "b= torch.tensor([3,4])\n",
        "\n",
        "print(\"Addition:\", a+b)\n",
        "print(\"Multiplication:\", a*b)"
      ]
    },
    {
      "cell_type": "markdown",
      "source": [
        "Matrix Multiplication"
      ],
      "metadata": {
        "id": "0KtJKscjfzzM"
      }
    },
    {
      "cell_type": "code",
      "execution_count": null,
      "metadata": {
        "id": "6pkFOtzXfewe",
        "outputId": "4ae850e1-5b5c-4ff2-e9ba-fb460f240d6b"
      },
      "outputs": [
        {
          "name": "stdout",
          "output_type": "stream",
          "text": [
            "Matrix Multiplication:\n",
            " tensor([[19, 22],\n",
            "        [43, 50]])\n"
          ]
        }
      ],
      "source": [
        "matrix1 = torch.tensor([[1, 2], [3, 4]])\n",
        "matrix2 = torch.tensor([[5, 6], [7, 8]])\n",
        "\n",
        "result = torch.matmul(matrix1, matrix2)\n",
        "print(\"Matrix Multiplication:\\n\", result)"
      ]
    },
    {
      "cell_type": "markdown",
      "source": [
        "Reshaping Tensors"
      ],
      "metadata": {
        "id": "UIk1SVEBgIrc"
      }
    },
    {
      "cell_type": "code",
      "execution_count": null,
      "metadata": {
        "id": "IzMcMWDMfewf",
        "outputId": "240ac134-788e-413b-e77b-39f54ba4d993"
      },
      "outputs": [
        {
          "name": "stdout",
          "output_type": "stream",
          "text": [
            "Reshaped Tensor:\n",
            " tensor([[1, 2, 3],\n",
            "        [4, 5, 6]])\n"
          ]
        }
      ],
      "source": [
        "tensor = torch.tensor([1, 2, 3, 4, 5, 6])\n",
        "reshaped = tensor.view(2, 3)  # Reshape to 2 rows and 3 columns\n",
        "print(\"Reshaped Tensor:\\n\", reshaped)"
      ]
    },
    {
      "cell_type": "markdown",
      "metadata": {
        "id": "fbA2u6refewf"
      },
      "source": [
        "Tasks: 1. Creating a 2D tensor of size (3,4) with random values.\n",
        "       2. Perform element wise addition with another tensor of the same size.\n",
        "       3. Reshape the resulting tensor to a 2*6 shape."
      ]
    },
    {
      "cell_type": "code",
      "execution_count": null,
      "metadata": {
        "id": "on4Vuo55fewg",
        "outputId": "1d5eea17-347f-46b2-d386-862752e319fa"
      },
      "outputs": [
        {
          "name": "stdout",
          "output_type": "stream",
          "text": [
            "Tensor 1 (3*4): \n",
            " tensor([[0.4539, 0.6674, 0.3819, 0.2527],\n",
            "        [0.4538, 0.7138, 0.2178, 0.4452],\n",
            "        [0.4388, 0.8855, 0.1904, 0.4635]])\n",
            "Tensor 2 (3*4): \n",
            " tensor([[0.5501, 0.5398, 0.2583, 0.2230],\n",
            "        [0.2039, 0.4301, 0.4047, 0.8707],\n",
            "        [0.5994, 0.4152, 0.4990, 0.8445]])\n",
            "Element-Wise addition (3*4):\n",
            " tensor([[1.0040, 1.2072, 0.6402, 0.4756],\n",
            "        [0.6577, 1.1439, 0.6224, 1.3159],\n",
            "        [1.0381, 1.3007, 0.6894, 1.3080]])\n",
            "Reshaped Result (2*6): \n",
            " tensor([[1.0040, 1.2072, 0.6402, 0.4756, 0.6577, 1.1439],\n",
            "        [0.6224, 1.3159, 1.0381, 1.3007, 0.6894, 1.3080]])\n"
          ]
        }
      ],
      "source": [
        "tensor1 = torch.rand(3, 4)\n",
        "print(\"Tensor 1 (3*4): \\n\",tensor1)\n",
        "\n",
        "tensor2 = torch.rand(3, 4)\n",
        "print(\"Tensor 2 (3*4): \\n\", tensor2)\n",
        "\n",
        "result = tensor1 + tensor2\n",
        "print(\"Element-Wise addition (3*4):\\n\", result)\n",
        "\n",
        "reshaped_result = result.view(2, 6)\n",
        "print(\"Reshaped Result (2*6): \\n\", reshaped_result)"
      ]
    },
    {
      "cell_type": "markdown",
      "metadata": {
        "id": "5ZIo4-4Wfewh"
      },
      "source": [
        "Automatic Differentiation with AutoGrad\n",
        "* When training a neural network, we adjust the model's weights (w) to minimize errors. This process is called BackPropogation. It uses gradients to do that. Gradient show how much each weight should change to reduce the error (loss)\n",
        "* torch.autograd helps to compute gradients automatically."
      ]
    },
    {
      "cell_type": "code",
      "execution_count": null,
      "metadata": {
        "id": "CYpOvMGUfewh",
        "outputId": "aed502c0-b1a4-43fe-cf36-6c762e2e5dcd"
      },
      "outputs": [
        {
          "name": "stdout",
          "output_type": "stream",
          "text": [
            "Gradient (dz/dx): tensor(12.)\n"
          ]
        }
      ],
      "source": [
        "import torch\n",
        "\n",
        "# Create a tensor with requires_grad=True\n",
        "x = torch.tensor(3.0, requires_grad=True)\n",
        "\n",
        "# Perform some operations\n",
        "y = x ** 2  # y = x^2\n",
        "z = 2 * y + 3  # z = 2y + 3\n",
        "\n",
        "# Compute gradients\n",
        "z.backward()  # Backpropagate\n",
        "\n",
        "# Gradient of z with respect to x\n",
        "print(\"Gradient (dz/dx):\", x.grad)\n"
      ]
    },
    {
      "cell_type": "code",
      "execution_count": null,
      "metadata": {
        "id": "_JgljVWXfewh",
        "outputId": "7dbaf909-c787-4369-9609-29f5dd31fc14"
      },
      "outputs": [
        {
          "name": "stdout",
          "output_type": "stream",
          "text": [
            "Gradient computation disabled: False\n"
          ]
        }
      ],
      "source": [
        "with torch.no_grad():\n",
        "    x = torch.tensor(3.0, requires_grad=True)\n",
        "    y = x ** 2\n",
        "    print(\"Gradient computation disabled:\", y.requires_grad)\n"
      ]
    },
    {
      "cell_type": "code",
      "execution_count": null,
      "metadata": {
        "id": "PIUT4yBzfewi",
        "outputId": "74c961f4-0f5e-4526-a684-45f9215490d0"
      },
      "outputs": [
        {
          "name": "stdout",
          "output_type": "stream",
          "text": [
            "Before zeroing: tensor(6.)\n",
            "After zeroing: tensor(0.)\n"
          ]
        }
      ],
      "source": [
        "x = torch.tensor(3.0, requires_grad=True)\n",
        "y = x ** 2\n",
        "y.backward()\n",
        "\n",
        "# Check the gradient\n",
        "print(\"Before zeroing:\", x.grad)\n",
        "\n",
        "# Zero the gradient\n",
        "x.grad.zero_()\n",
        "print(\"After zeroing:\", x.grad)\n"
      ]
    },
    {
      "cell_type": "markdown",
      "metadata": {
        "id": "SixsulKAfewi"
      },
      "source": [
        "Computing Gradients for multiple variables"
      ]
    },
    {
      "cell_type": "code",
      "execution_count": null,
      "metadata": {
        "id": "nVY-07Oifewi",
        "outputId": "4ce00a12-a3a6-4ae3-ec78-889f078f15c2"
      },
      "outputs": [
        {
          "name": "stdout",
          "output_type": "stream",
          "text": [
            "Gradient of a:\n",
            " tensor([[-1.4726,  2.2852,  1.1395],\n",
            "        [-1.8295, -0.1403, -0.4088]])\n",
            "Gradient of b:\n",
            " tensor([[-0.9477, -0.5214,  1.2121],\n",
            "        [-0.0907,  0.5103,  0.1629]])\n"
          ]
        }
      ],
      "source": [
        "a = torch.randn(2, 3, requires_grad=True)\n",
        "b = torch.randn(2, 3, requires_grad=True)\n",
        "\n",
        "# Element-wise operations\n",
        "c = a * b\n",
        "d = c.sum()  # Scalar output\n",
        "\n",
        "# Backpropagation\n",
        "d.backward()\n",
        "\n",
        "# Gradients\n",
        "print(\"Gradient of a:\\n\", a.grad)\n",
        "print(\"Gradient of b:\\n\", b.grad)\n"
      ]
    },
    {
      "cell_type": "markdown",
      "source": [
        "#                                 Optimizers and Loss Function\n",
        "Loss Function:\n",
        "A loss function measures the difference between the model's predictions and the actual target values.\n",
        "\n",
        "Example:\n",
        "\n",
        "Mean Squared Error (MSE): Commonly used for regression tasks.\n",
        "\n",
        "Cross-Entropy Loss: Popular for classification tasks.\n",
        "\n",
        "Optimizer:\n",
        "An optimizer updates the model's parameters (weights and biases) to minimize the loss.\n",
        "\n",
        "It uses the gradients computed during backpropagation to adjust the parameters.\n",
        "\n",
        "Examples: SGD, Adam, RMSprop."
      ],
      "metadata": {
        "id": "LoC_4JMqSRf_"
      }
    },
    {
      "cell_type": "code",
      "source": [
        "import torch\n",
        "import torch.nn as nn\n",
        "import torch.optim as op\n",
        "\n",
        "# Input (features) and target (labels)\n",
        "x = torch.tensor([[1.0], [2.0], [3.0], [4.0]])\n",
        "y = torch.tensor([[2.0], [4.0], [6.0], [8.0]])\n",
        "\n",
        "# Simple linear model: y = wx + b\n",
        "model = nn.Linear(1, 1)  # 1 input feature, 1 output\n",
        "\n",
        "# Mean Squared Error (MSE) loss\n",
        "criterion = nn.MSELoss()\n",
        "\n",
        "# Stochastic Gradient Descent (SGD) optimizer\n",
        "optimizer = op.SGD(model.parameters(), lr=0.01)  # Learning rate = 0.01\n",
        "\n",
        "for epoch in range(100):  # 100 epochs\n",
        "    # Forward pass: Compute predictions\n",
        "    predictions = model(x)\n",
        "\n",
        "    # Compute the loss\n",
        "    loss = criterion(predictions, y)\n",
        "\n",
        "    # Backward pass: Compute gradients for the model parameter's\n",
        "    loss.backward()\n",
        "\n",
        "    # Update parameters\n",
        "    optimizer.step()\n",
        "\n",
        "    # Zero the gradients for the next iteration\n",
        "    optimizer.zero_grad()\n",
        "\n",
        "    # Print the loss every 10 epochs\n",
        "    if (epoch + 1) % 10 == 0:\n",
        "        print(f\"Epoch [{epoch + 1}/100], Loss: {loss.item():.4f}\")\n"
      ],
      "metadata": {
        "id": "ti5wmyEvS0ur",
        "outputId": "5b275ce8-1b36-4e4e-d593-5a947505aa1b",
        "colab": {
          "base_uri": "https://localhost:8080/"
        }
      },
      "execution_count": null,
      "outputs": [
        {
          "output_type": "stream",
          "name": "stdout",
          "text": [
            "Epoch [10/100], Loss: 1.6507\n",
            "Epoch [20/100], Loss: 0.0429\n",
            "Epoch [30/100], Loss: 0.0013\n",
            "Epoch [40/100], Loss: 0.0002\n",
            "Epoch [50/100], Loss: 0.0002\n",
            "Epoch [60/100], Loss: 0.0002\n",
            "Epoch [70/100], Loss: 0.0002\n",
            "Epoch [80/100], Loss: 0.0002\n",
            "Epoch [90/100], Loss: 0.0001\n",
            "Epoch [100/100], Loss: 0.0001\n"
          ]
        }
      ]
    }
  ],
  "metadata": {
    "kernelspec": {
      "display_name": "base",
      "language": "python",
      "name": "python3"
    },
    "language_info": {
      "codemirror_mode": {
        "name": "ipython",
        "version": 3
      },
      "file_extension": ".py",
      "mimetype": "text/x-python",
      "name": "python",
      "nbconvert_exporter": "python",
      "pygments_lexer": "ipython3",
      "version": "3.12.4"
    },
    "colab": {
      "provenance": [],
      "include_colab_link": true
    }
  },
  "nbformat": 4,
  "nbformat_minor": 0
}