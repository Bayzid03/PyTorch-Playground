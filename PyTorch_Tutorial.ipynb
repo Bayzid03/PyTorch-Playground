{
  "nbformat": 4,
  "nbformat_minor": 0,
  "metadata": {
    "colab": {
      "provenance": [],
      "authorship_tag": "ABX9TyNDykb2DdfA9SbQfmV0pMe6",
      "include_colab_link": true
    },
    "kernelspec": {
      "name": "python3",
      "display_name": "Python 3"
    },
    "language_info": {
      "name": "python"
    }
  },
  "cells": [
    {
      "cell_type": "markdown",
      "metadata": {
        "id": "view-in-github",
        "colab_type": "text"
      },
      "source": [
        "<a href=\"https://colab.research.google.com/github/Bayzid03/PyTorch-Playground/blob/main/PyTorch_Tutorial.ipynb\" target=\"_parent\"><img src=\"https://colab.research.google.com/assets/colab-badge.svg\" alt=\"Open In Colab\"/></a>"
      ]
    },
    {
      "cell_type": "markdown",
      "source": [
        "**Working With Data:**\n",
        "\n",
        "1. PyTorch has two primitives to work with data: torch.utils.data.DataLoader and torch.utils.data.Dataset\n",
        "\n",
        "* Dataset is like a list of data points. It holds the raw data like images, text or numbers along with their labels.\n",
        "\n",
        "* DataLoader takes the dataset and organizes the data into batches.\n",
        "\n",
        "* During training a model, we use Dataset to store our data and DataLoader to pass batches of data to our model."
      ],
      "metadata": {
        "id": "EKvMMlrcPM5c"
      }
    },
    {
      "cell_type": "code",
      "source": [
        "!pip install torch torchvision"
      ],
      "metadata": {
        "id": "6YzckLFGSpRv"
      },
      "execution_count": null,
      "outputs": []
    },
    {
      "cell_type": "code",
      "source": [
        "import torch\n",
        "from torch import nn\n",
        "from torch.utils.data import DataLoader\n",
        "from torchvision import datasets\n",
        "from torchvision.transforms import ToTensor"
      ],
      "metadata": {
        "id": "sZ0mxfTYReku"
      },
      "execution_count": null,
      "outputs": []
    },
    {
      "cell_type": "code",
      "source": [
        "training_data = datasets.FashionMNIST(\n",
        "    root=\"data\", # It specifies the folder where the dateset should be stored.\n",
        "    train=True,\n",
        "    download=True, # If the dataset isn't in the 'data' folder, PyTorch will download it automatically.\n",
        "    transform=ToTensor(), # Converts image into numerical format.\n",
        ")\n",
        "\n",
        "testing_data = datasets.FashionMNIST(\n",
        "    root=\"data\",\n",
        "    train=False,\n",
        "    download=True,\n",
        "    transform=ToTensor(),\n",
        ")"
      ],
      "metadata": {
        "id": "HaJRdw_PSv6D"
      },
      "execution_count": null,
      "outputs": []
    },
    {
      "cell_type": "code",
      "source": [
        "# Get all the class names\n",
        "print(\"Class Names:\", training_data.classes)"
      ],
      "metadata": {
        "id": "Ritsa5tnJkk4"
      },
      "execution_count": null,
      "outputs": []
    },
    {
      "cell_type": "code",
      "source": [
        "# Get the Number of images per class\n",
        "for _, label in training_data:\n",
        "    class_name = training_data.classes[label]\n",
        "    class_counts[class_name] = class_counts.get(class_name, 0) + 1\n",
        "\n",
        "print(class_counts)"
      ],
      "metadata": {
        "id": "93kZV7e9JzXK"
      },
      "execution_count": null,
      "outputs": []
    },
    {
      "cell_type": "code",
      "source": [
        "# Get the first image and label from the dataset\n",
        "image_tensor, label = training_data[0]\n",
        "\n",
        "# Print image shape, numeric label, and its class name\n",
        "print(\"Image shape:\", image_tensor.shape)\n",
        "print(\"Label index:\", label)\n",
        "print(\"Label name:\", training_data.classes[label])"
      ],
      "metadata": {
        "id": "wuPNVEA9BShM"
      },
      "execution_count": null,
      "outputs": []
    },
    {
      "cell_type": "code",
      "source": [
        "# Visualize the first 9 images\n",
        "import matplotlib.pyplot as plt\n",
        "\n",
        "plt.figure(figsize=(8,8))\n",
        "for i in range(9):\n",
        "  image, label = training_data[i]\n",
        "  plt.subplot(3,3,i+1)\n",
        "  plt.imshow(image.squeeze(), cmap='gray') # squeeze() -> Remove extra dimension\n",
        "  plt.title(training_data.classes[label])\n",
        "  plt.axis('off')\n",
        "\n",
        "plt.tight_layout()\n",
        "plt.show()"
      ],
      "metadata": {
        "id": "j7iLIevMDa-t"
      },
      "execution_count": null,
      "outputs": []
    },
    {
      "cell_type": "code",
      "source": [
        "labels_map = {\n",
        "    0: \"T-Shirt\", 1: \"Trouser\", 2: \"Pullover\", 3: \"Dress\", 4: \"Coat\",\n",
        "    5: \"Sandal\", 6: \"Shirt\", 7: \"Sneaker\", 8: \"Bag\", 9: \"Ankle Boot\"\n",
        "}\n",
        "\n",
        "plt.figure(figsize=(8, 8))\n",
        "for i in range(9):\n",
        "    idx = torch.randint(len(training_data), (1,)).item()\n",
        "    img, label = training_data[idx]\n",
        "    plt.subplot(3, 3, i + 1)\n",
        "    plt.imshow(img.squeeze(), cmap='gray')\n",
        "    plt.title(labels_map[label])\n",
        "    plt.axis('off')\n",
        "plt.tight_layout()\n",
        "plt.show()"
      ],
      "metadata": {
        "id": "6UMGIN-ZHiHX"
      },
      "execution_count": null,
      "outputs": []
    }
  ]
}